{
 "cells": [
  {
   "cell_type": "code",
   "execution_count": 1,
   "metadata": {},
   "outputs": [
    {
     "name": "stdout",
     "output_type": "stream",
     "text": [
      "Starting Spark application\n"
     ]
    },
    {
     "data": {
      "text/html": [
       "<table>\n",
       "<tr><th>ID</th><th>YARN Application ID</th><th>Kind</th><th>State</th><th>Spark UI</th><th>Driver log</th><th>Current session?</th></tr><tr><td>0</td><td>application_1625852704433_0001</td><td>pyspark</td><td>idle</td><td><a target=\"_blank\" href=\"http://ip-172-31-44-175.ec2.internal:20888/proxy/application_1625852704433_0001/\">Link</a></td><td><a target=\"_blank\" href=\"http://ip-172-31-47-42.ec2.internal:8042/node/containerlogs/container_1625852704433_0001_01_000001/livy\">Link</a></td><td>✔</td></tr></table>"
      ],
      "text/plain": [
       "<IPython.core.display.HTML object>"
      ]
     },
     "metadata": {},
     "output_type": "display_data"
    },
    {
     "data": {
      "application/vnd.jupyter.widget-view+json": {
       "model_id": "",
       "version_major": 2,
       "version_minor": 0
      },
      "text/plain": [
       "FloatProgress(value=0.0, bar_style='info', description='Progress:', layout=Layout(height='25px', width='50%'),…"
      ]
     },
     "metadata": {},
     "output_type": "display_data"
    },
    {
     "name": "stdout",
     "output_type": "stream",
     "text": [
      "SparkSession available as 'spark'.\n"
     ]
    },
    {
     "data": {
      "application/vnd.jupyter.widget-view+json": {
       "model_id": "",
       "version_major": 2,
       "version_minor": 0
      },
      "text/plain": [
       "FloatProgress(value=0.0, bar_style='info', description='Progress:', layout=Layout(height='25px', width='50%'),…"
      ]
     },
     "metadata": {},
     "output_type": "display_data"
    }
   ],
   "source": [
    "import pyspark"
   ]
  },
  {
   "cell_type": "markdown",
   "metadata": {},
   "source": [
    "# P1."
   ]
  },
  {
   "cell_type": "code",
   "execution_count": 2,
   "metadata": {},
   "outputs": [
    {
     "data": {
      "application/vnd.jupyter.widget-view+json": {
       "model_id": "",
       "version_major": 2,
       "version_minor": 0
      },
      "text/plain": [
       "FloatProgress(value=0.0, bar_style='info', description='Progress:', layout=Layout(height='25px', width='50%'),…"
      ]
     },
     "metadata": {},
     "output_type": "display_data"
    }
   ],
   "source": [
    "from pyspark.sql.functions import col, when, size, split"
   ]
  },
  {
   "cell_type": "code",
   "execution_count": 3,
   "metadata": {},
   "outputs": [
    {
     "data": {
      "application/vnd.jupyter.widget-view+json": {
       "model_id": "",
       "version_major": 2,
       "version_minor": 0
      },
      "text/plain": [
       "FloatProgress(value=0.0, bar_style='info', description='Progress:', layout=Layout(height='25px', width='50%'),…"
      ]
     },
     "metadata": {},
     "output_type": "display_data"
    }
   ],
   "source": [
    "users = spark.read.json('s3://bigdata-desafio/yelp-data/user.json')"
   ]
  },
  {
   "cell_type": "markdown",
   "metadata": {},
   "source": [
    "#### Identificando usarios molestosos."
   ]
  },
  {
   "cell_type": "markdown",
   "metadata": {},
   "source": [
    "+ Un usuario molestoso es aquél que su promedio de evaluaciones es menor o igual a 2, tiene en promedio menos de 100 reviews y tiene cero fans."
   ]
  },
  {
   "cell_type": "code",
   "execution_count": 4,
   "metadata": {},
   "outputs": [
    {
     "data": {
      "application/vnd.jupyter.widget-view+json": {
       "model_id": "",
       "version_major": 2,
       "version_minor": 0
      },
      "text/plain": [
       "FloatProgress(value=0.0, bar_style='info', description='Progress:', layout=Layout(height='25px', width='50%'),…"
      ]
     },
     "metadata": {},
     "output_type": "display_data"
    }
   ],
   "source": [
    "users = users.withColumn('es_molestoso',\n",
    "                              when((col('average_stars') <= 2)\\\n",
    "                                & (col('review_count') < 100)\\\n",
    "                                & (col('fans') == 0), 1)\\\n",
    "                                .otherwise(0))"
   ]
  },
  {
   "cell_type": "markdown",
   "metadata": {},
   "source": [
    "#### Recodificaciones."
   ]
  },
  {
   "cell_type": "code",
   "execution_count": 5,
   "metadata": {},
   "outputs": [
    {
     "data": {
      "application/vnd.jupyter.widget-view+json": {
       "model_id": "",
       "version_major": 2,
       "version_minor": 0
      },
      "text/plain": [
       "FloatProgress(value=0.0, bar_style='info', description='Progress:', layout=Layout(height='25px', width='50%'),…"
      ]
     },
     "metadata": {},
     "output_type": "display_data"
    }
   ],
   "source": [
    "users = users.withColumn('friends_count', size(split(col('friends'), ',')))\n",
    "users = users.withColumn('elite_count', size(split(col('elite'), ',')))"
   ]
  },
  {
   "cell_type": "code",
   "execution_count": 6,
   "metadata": {},
   "outputs": [
    {
     "data": {
      "application/vnd.jupyter.widget-view+json": {
       "model_id": "",
       "version_major": 2,
       "version_minor": 0
      },
      "text/plain": [
       "FloatProgress(value=0.0, bar_style='info', description='Progress:', layout=Layout(height='25px', width='50%'),…"
      ]
     },
     "metadata": {},
     "output_type": "display_data"
    }
   ],
   "source": [
    "users = users.drop('friends', 'yelping_since', 'name', 'elite', 'user_id')"
   ]
  },
  {
   "cell_type": "code",
   "execution_count": 7,
   "metadata": {},
   "outputs": [
    {
     "data": {
      "application/vnd.jupyter.widget-view+json": {
       "model_id": "",
       "version_major": 2,
       "version_minor": 0
      },
      "text/plain": [
       "FloatProgress(value=0.0, bar_style='info', description='Progress:', layout=Layout(height='25px', width='50%'),…"
      ]
     },
     "metadata": {},
     "output_type": "display_data"
    },
    {
     "name": "stdout",
     "output_type": "stream",
     "text": [
      "[Row(average_stars=4.03, compliment_cool=1, compliment_cute=0, compliment_funny=1, compliment_hot=2, compliment_list=0, compliment_more=0, compliment_note=1, compliment_photos=0, compliment_plain=1, compliment_profile=0, compliment_writer=2, cool=25, fans=5, funny=17, review_count=95, useful=84, es_molestoso=0, friends_count=99, elite_count=3)]"
     ]
    }
   ],
   "source": [
    "users.take(1)"
   ]
  },
  {
   "cell_type": "markdown",
   "metadata": {},
   "source": [
    "#### Medicion usuarios molestos."
   ]
  },
  {
   "cell_type": "code",
   "execution_count": 8,
   "metadata": {},
   "outputs": [
    {
     "data": {
      "application/vnd.jupyter.widget-view+json": {
       "model_id": "",
       "version_major": 2,
       "version_minor": 0
      },
      "text/plain": [
       "FloatProgress(value=0.0, bar_style='info', description='Progress:', layout=Layout(height='25px', width='50%'),…"
      ]
     },
     "metadata": {},
     "output_type": "display_data"
    },
    {
     "name": "stdout",
     "output_type": "stream",
     "text": [
      "183676"
     ]
    }
   ],
   "source": [
    "users.filter(col(\"es_molestoso\") == 1).count()"
   ]
  },
  {
   "cell_type": "markdown",
   "metadata": {},
   "source": [
    "#### Creando vector assembler."
   ]
  },
  {
   "cell_type": "code",
   "execution_count": 9,
   "metadata": {},
   "outputs": [
    {
     "data": {
      "application/vnd.jupyter.widget-view+json": {
       "model_id": "",
       "version_major": 2,
       "version_minor": 0
      },
      "text/plain": [
       "FloatProgress(value=0.0, bar_style='info', description='Progress:', layout=Layout(height='25px', width='50%'),…"
      ]
     },
     "metadata": {},
     "output_type": "display_data"
    }
   ],
   "source": [
    "from pyspark.ml.feature import VectorAssembler"
   ]
  },
  {
   "cell_type": "code",
   "execution_count": 10,
   "metadata": {},
   "outputs": [
    {
     "data": {
      "application/vnd.jupyter.widget-view+json": {
       "model_id": "",
       "version_major": 2,
       "version_minor": 0
      },
      "text/plain": [
       "FloatProgress(value=0.0, bar_style='info', description='Progress:', layout=Layout(height='25px', width='50%'),…"
      ]
     },
     "metadata": {},
     "output_type": "display_data"
    }
   ],
   "source": [
    "# Defino lista features\n",
    "feats =  ['compliment_cool', 'compliment_cute', 'compliment_funny', \n",
    "          'compliment_hot', 'compliment_list', 'compliment_more', 'compliment_note', \n",
    "          'compliment_photos', 'compliment_plain', 'compliment_profile', 'compliment_writer', \n",
    "          'cool', 'fans', 'funny', 'review_count', 'useful', 'friends_count', 'elite_count']\n",
    "# Defino vector assembler\n",
    "va = VectorAssembler(inputCols=feats, outputCol='vector_features')\n",
    "\n",
    "users_2 = va.transform(users)\n",
    "users_3 = users_2.select(\"es_molestoso\", \"vector_features\")"
   ]
  },
  {
   "cell_type": "markdown",
   "metadata": {},
   "source": [
    "#### División muestra conjunto entrenamiento y validación."
   ]
  },
  {
   "cell_type": "code",
   "execution_count": 11,
   "metadata": {},
   "outputs": [
    {
     "data": {
      "application/vnd.jupyter.widget-view+json": {
       "model_id": "",
       "version_major": 2,
       "version_minor": 0
      },
      "text/plain": [
       "FloatProgress(value=0.0, bar_style='info', description='Progress:', layout=Layout(height='25px', width='50%'),…"
      ]
     },
     "metadata": {},
     "output_type": "display_data"
    }
   ],
   "source": [
    "train_vector, test_vector = users_3.randomSplit([0.7,0.3], seed=37311)"
   ]
  },
  {
   "cell_type": "markdown",
   "metadata": {},
   "source": [
    "#### Entrenamiento modelos."
   ]
  },
  {
   "cell_type": "markdown",
   "metadata": {},
   "source": [
    "+ LogisticRegression."
   ]
  },
  {
   "cell_type": "code",
   "execution_count": 12,
   "metadata": {},
   "outputs": [
    {
     "data": {
      "application/vnd.jupyter.widget-view+json": {
       "model_id": "",
       "version_major": 2,
       "version_minor": 0
      },
      "text/plain": [
       "FloatProgress(value=0.0, bar_style='info', description='Progress:', layout=Layout(height='25px', width='50%'),…"
      ]
     },
     "metadata": {},
     "output_type": "display_data"
    }
   ],
   "source": [
    "from pyspark.ml.classification import LogisticRegression, DecisionTreeClassifier, GBTClassifier\n",
    "from pyspark.ml.evaluation import BinaryClassificationEvaluator"
   ]
  },
  {
   "cell_type": "code",
   "execution_count": 13,
   "metadata": {},
   "outputs": [
    {
     "data": {
      "application/vnd.jupyter.widget-view+json": {
       "model_id": "",
       "version_major": 2,
       "version_minor": 0
      },
      "text/plain": [
       "FloatProgress(value=0.0, bar_style='info', description='Progress:', layout=Layout(height='25px', width='50%'),…"
      ]
     },
     "metadata": {},
     "output_type": "display_data"
    }
   ],
   "source": [
    "#Train: fit\n",
    "lr = LogisticRegression(featuresCol = 'vector_features', labelCol = 'es_molestoso')\n",
    "fitted_model_lr = lr.fit(train_vector)\n",
    "\n",
    "#Test: transform\n",
    "lr_prediction = fitted_model_lr.transform(test_vector)"
   ]
  },
  {
   "cell_type": "code",
   "execution_count": 14,
   "metadata": {},
   "outputs": [
    {
     "data": {
      "application/vnd.jupyter.widget-view+json": {
       "model_id": "",
       "version_major": 2,
       "version_minor": 0
      },
      "text/plain": [
       "FloatProgress(value=0.0, bar_style='info', description='Progress:', layout=Layout(height='25px', width='50%'),…"
      ]
     },
     "metadata": {},
     "output_type": "display_data"
    }
   ],
   "source": [
    "lr_evaluator = BinaryClassificationEvaluator(labelCol=\"es_molestoso\", rawPredictionCol=\"rawPrediction\")\n",
    "lr_auc = lr_evaluator.evaluate(lr_prediction)"
   ]
  },
  {
   "cell_type": "code",
   "execution_count": 15,
   "metadata": {},
   "outputs": [
    {
     "data": {
      "application/vnd.jupyter.widget-view+json": {
       "model_id": "",
       "version_major": 2,
       "version_minor": 0
      },
      "text/plain": [
       "FloatProgress(value=0.0, bar_style='info', description='Progress:', layout=Layout(height='25px', width='50%'),…"
      ]
     },
     "metadata": {},
     "output_type": "display_data"
    },
    {
     "name": "stdout",
     "output_type": "stream",
     "text": [
      "0.853646926382871"
     ]
    }
   ],
   "source": [
    "lr_auc"
   ]
  },
  {
   "cell_type": "markdown",
   "metadata": {},
   "source": [
    "+ GBTClassifier"
   ]
  },
  {
   "cell_type": "code",
   "execution_count": 16,
   "metadata": {},
   "outputs": [
    {
     "data": {
      "application/vnd.jupyter.widget-view+json": {
       "model_id": "",
       "version_major": 2,
       "version_minor": 0
      },
      "text/plain": [
       "FloatProgress(value=0.0, bar_style='info', description='Progress:', layout=Layout(height='25px', width='50%'),…"
      ]
     },
     "metadata": {},
     "output_type": "display_data"
    }
   ],
   "source": [
    "#Train: fit\n",
    "gbt = GBTClassifier(featuresCol = 'vector_features', labelCol = 'es_molestoso')\n",
    "fitted_model_gbt = gbt.fit(train_vector)\n",
    "\n",
    "#Test: transform\n",
    "gbt_prediction = fitted_model_gbt.transform(test_vector)"
   ]
  },
  {
   "cell_type": "code",
   "execution_count": 17,
   "metadata": {},
   "outputs": [
    {
     "data": {
      "application/vnd.jupyter.widget-view+json": {
       "model_id": "",
       "version_major": 2,
       "version_minor": 0
      },
      "text/plain": [
       "FloatProgress(value=0.0, bar_style='info', description='Progress:', layout=Layout(height='25px', width='50%'),…"
      ]
     },
     "metadata": {},
     "output_type": "display_data"
    }
   ],
   "source": [
    "gbt_evaluator = BinaryClassificationEvaluator(labelCol=\"es_molestoso\", rawPredictionCol=\"rawPrediction\")\n",
    "gbt_auc = gbt_evaluator.evaluate(gbt_prediction)"
   ]
  },
  {
   "cell_type": "code",
   "execution_count": 18,
   "metadata": {},
   "outputs": [
    {
     "data": {
      "application/vnd.jupyter.widget-view+json": {
       "model_id": "",
       "version_major": 2,
       "version_minor": 0
      },
      "text/plain": [
       "FloatProgress(value=0.0, bar_style='info', description='Progress:', layout=Layout(height='25px', width='50%'),…"
      ]
     },
     "metadata": {},
     "output_type": "display_data"
    },
    {
     "name": "stdout",
     "output_type": "stream",
     "text": [
      "0.8643819091596544"
     ]
    }
   ],
   "source": [
    "gbt_auc"
   ]
  },
  {
   "cell_type": "markdown",
   "metadata": {},
   "source": [
    "+ DecisionTreeClassifier"
   ]
  },
  {
   "cell_type": "code",
   "execution_count": 19,
   "metadata": {},
   "outputs": [
    {
     "data": {
      "application/vnd.jupyter.widget-view+json": {
       "model_id": "",
       "version_major": 2,
       "version_minor": 0
      },
      "text/plain": [
       "FloatProgress(value=0.0, bar_style='info', description='Progress:', layout=Layout(height='25px', width='50%'),…"
      ]
     },
     "metadata": {},
     "output_type": "display_data"
    }
   ],
   "source": [
    "#Train: fit\n",
    "dtc = DecisionTreeClassifier(featuresCol = 'vector_features', labelCol = 'es_molestoso')\n",
    "fitted_model_dtc = dtc.fit(train_vector)\n",
    "\n",
    "#Test: transform\n",
    "dtc_prediction = fitted_model_dtc.transform(test_vector)"
   ]
  },
  {
   "cell_type": "code",
   "execution_count": 20,
   "metadata": {},
   "outputs": [
    {
     "data": {
      "application/vnd.jupyter.widget-view+json": {
       "model_id": "",
       "version_major": 2,
       "version_minor": 0
      },
      "text/plain": [
       "FloatProgress(value=0.0, bar_style='info', description='Progress:', layout=Layout(height='25px', width='50%'),…"
      ]
     },
     "metadata": {},
     "output_type": "display_data"
    }
   ],
   "source": [
    "dtc_evaluator = BinaryClassificationEvaluator(labelCol=\"es_molestoso\", rawPredictionCol=\"rawPrediction\")\n",
    "dtc_auc = dtc_evaluator.evaluate(dtc_prediction)"
   ]
  },
  {
   "cell_type": "code",
   "execution_count": 21,
   "metadata": {},
   "outputs": [
    {
     "data": {
      "application/vnd.jupyter.widget-view+json": {
       "model_id": "",
       "version_major": 2,
       "version_minor": 0
      },
      "text/plain": [
       "FloatProgress(value=0.0, bar_style='info', description='Progress:', layout=Layout(height='25px', width='50%'),…"
      ]
     },
     "metadata": {},
     "output_type": "display_data"
    },
    {
     "name": "stdout",
     "output_type": "stream",
     "text": [
      "0.2703594562529107"
     ]
    }
   ],
   "source": [
    "dtc_auc"
   ]
  },
  {
   "cell_type": "markdown",
   "metadata": {},
   "source": [
    "+ El mejor modelo en base a su AUC score es el Gradient Boosted Trees. Con 0.864."
   ]
  },
  {
   "cell_type": "markdown",
   "metadata": {},
   "source": [
    "+ Identifique cuales son los principales atributos asociados a un usuario molestoso y repórtelos"
   ]
  },
  {
   "cell_type": "code",
   "execution_count": 107,
   "metadata": {},
   "outputs": [
    {
     "data": {
      "application/vnd.jupyter.widget-view+json": {
       "model_id": "",
       "version_major": 2,
       "version_minor": 0
      },
      "text/plain": [
       "FloatProgress(value=0.0, bar_style='info', description='Progress:', layout=Layout(height='25px', width='50%'),…"
      ]
     },
     "metadata": {},
     "output_type": "display_data"
    },
    {
     "name": "stdout",
     "output_type": "stream",
     "text": [
      "[(0.0, 'compliment_cute'), (0.0, 'compliment_funny'), (0.0, 'compliment_hot'), (0.0, 'compliment_list'), (0.0, 'compliment_more'), (0.0, 'compliment_note'), (0.0, 'compliment_photos'), (0.0, 'compliment_plain'), (0.0, 'compliment_profile'), (0.0, 'compliment_writer'), (0.0, 'elite_count'), (0.0005978506956905386, 'compliment_cool'), (0.04058943399297541, 'friends_count'), (0.07582520184276012, 'funny'), (0.09910869607566228, 'fans'), (0.10378065818072539, 'useful'), (0.13305601616650733, 'cool'), (0.5470421430456789, 'review_count')]"
     ]
    }
   ],
   "source": [
    "iterable_to_sort_molestoso = list(zip(list(fitted_model_gbt.featureImportances), feats))\n",
    "sorted(iterable_to_sort_molestoso)"
   ]
  },
  {
   "cell_type": "markdown",
   "metadata": {},
   "source": [
    "+ Los principales atributos asociados a un usuario molestoso son:\n",
    "    - review_count\n",
    "    - cool\n",
    "    - useful"
   ]
  },
  {
   "cell_type": "markdown",
   "metadata": {},
   "source": [
    "# P2."
   ]
  },
  {
   "cell_type": "code",
   "execution_count": 22,
   "metadata": {},
   "outputs": [
    {
     "data": {
      "application/vnd.jupyter.widget-view+json": {
       "model_id": "",
       "version_major": 2,
       "version_minor": 0
      },
      "text/plain": [
       "FloatProgress(value=0.0, bar_style='info', description='Progress:', layout=Layout(height='25px', width='50%'),…"
      ]
     },
     "metadata": {},
     "output_type": "display_data"
    }
   ],
   "source": [
    "business = spark.read.json('s3://bigdata-desafio/yelp-data/business.json')"
   ]
  },
  {
   "cell_type": "code",
   "execution_count": 23,
   "metadata": {},
   "outputs": [
    {
     "data": {
      "application/vnd.jupyter.widget-view+json": {
       "model_id": "",
       "version_major": 2,
       "version_minor": 0
      },
      "text/plain": [
       "FloatProgress(value=0.0, bar_style='info', description='Progress:', layout=Layout(height='25px', width='50%'),…"
      ]
     },
     "metadata": {},
     "output_type": "display_data"
    }
   ],
   "source": [
    "\n",
    "business = business.withColumn('accepts_insurance',\n",
    "                               when((col('attributes.AcceptsInsurance') == 'True')\\\n",
    "                                     | (col('attributes.AcceptsInsurance') == \"\\'True\\'\")\\\n",
    "                                     | (col('attributes.AcceptsInsurance') == \"u\\'True\\'\"), 1)\\\n",
    "                               .otherwise(0))\n",
    "\n",
    "business = business.withColumn('age_restricted',\n",
    "                              when((col('attributes.AgesAllowed') == 'allages')\\\n",
    "                                    | (col('attributes.AgesAllowed') == \"\\'allages\\'\")\\\n",
    "                                    | (col('attributes.AgesAllowed') == \"u\\'allages\\'\"), 1)\\\n",
    "                                .otherwise(0))\n",
    "\n",
    "business = business.withColumn('allows_alcohol',\n",
    "                              when((col('attributes.Alcohol') == 'beer_and_wine')\\\n",
    "                                    | (col('attributes.Alcohol') == \"\\'beer_and_wine\\'\")\\\n",
    "                                    | (col('attributes.Alcohol') == \"u\\'beer_and_wine\\'\")\\\n",
    "                                    | (col('attributes.Alcohol') == 'full_bar')\\\n",
    "                                    | (col('attributes.Alcohol') == \"\\'full_bar\\'\")\\\n",
    "                                    | (col('attributes.Alcohol') == \"u\\'full_bar\\'\"), 1)\\\n",
    "                            .otherwise(0))\n",
    "\n",
    "business = business.withColumn('accepts_bitcoin',\n",
    "                              when((col('attributes.BusinessAcceptsBitcoin') == 'True')\\\n",
    "                                    | (col('attributes.BusinessAcceptsBitcoin') == True)\\\n",
    "                                    | (col('attributes.BusinessAcceptsBitcoin') == \"\\'True\\'\")\\\n",
    "                                    | (col('attributes.BusinessAcceptsBitcoin') == \"u\\'True\\'\"), 1)\\\n",
    "                            .otherwise(0))\n",
    "\n",
    "business = business.withColumn('food_related',\n",
    "                              when((col('categories').rlike('Food'))\\\n",
    "                                    | (col('categories').rlike('Restaurants'))\\\n",
    "                                    | (col('categories').rlike('Bars')), 1)\\\n",
    "                            .otherwise(0))\n",
    "\n",
    "business = business.withColumn('finance_related',\n",
    "                              when((col('categories').rlike('Banks'))\\\n",
    "                                    | (col('categories').rlike('Insurance'))\\\n",
    "                                    | (col('categories').rlike('Finance')), 1)\\\n",
    "                            .otherwise(0))\n",
    "\n",
    "business = business.withColumn('health_related',\n",
    "                              when((col('categories').rlike('Fitness'))\\\n",
    "                                    | (col('categories').rlike('Hospitals'))\\\n",
    "                                    | (col('categories').rlike('Health')), 1)\\\n",
    "                            .otherwise(0))\n",
    "\n",
    "business = business.withColumn('allows_smoking',\n",
    "                              when((col('attributes.Smoking') == '\\'yes\\'')\\\n",
    "                                    |(col('attributes.Smoking') == 'u\\'yes\\'')\\\n",
    "                                    |(col('attributes.Smoking') == 'yes')\\\n",
    "                                    |(col('attributes.Smoking') == '\\'outdoor\\'')\\\n",
    "                                    |(col('attributes.Smoking') == 'u\\'outdoor\\'')\\\n",
    "                                    |(col('attributes.Smoking') == 'outdoor'), 1)\\\n",
    "                            .otherwise(0))\n",
    "\n",
    "business = business.withColumn('offers_free_wifi',\n",
    "                              when((col('attributes.WiFi') == '\\'free\\'')\\\n",
    "                                    | (col('attributes.WiFi') == 'u\\'free\\'')\\\n",
    "                                    | (col('attributes.WiFi') == 'free'), 1)\\\n",
    "                            .otherwise(0))\n",
    "\n",
    "business = business.withColumn('considered_expensive',\n",
    "                              when((col('attributes.RestaurantsPriceRange2') == 3)\\\n",
    "                                    | (col('attributes.RestaurantsPriceRange2') == 4), 1)\\\n",
    "                            .otherwise(0))\n",
    "\n",
    "business = business.withColumn('kid_friendly',\n",
    "                              when((col('attributes.GoodForKids') == 'True')\\\n",
    "                                    | (col('attributes.GoodForKids') == True)\\\n",
    "                                    | (col('attributes.GoodForKids') == \"\\'True\\'\")\\\n",
    "                                    | (col('attributes.GoodForKids') == \"u\\'True\\'\"), 1)\\\n",
    "                            .otherwise(0))\n",
    "\n",
    "business = business.withColumn('has_tv',\n",
    "                              when((col('attributes.HasTV') == 'True')\\\n",
    "                                    | (col('attributes.HasTV') == True)\\\n",
    "                                    | (col('attributes.HasTV') == \"\\'True\\'\")\\\n",
    "                                    | (col('attributes.HasTV') == \"u\\'True\\'\"), 1)\\\n",
    "                            .otherwise(0))\n",
    "\n",
    "business = business.withColumn('dog_friendly',\n",
    "                              when((col('attributes.DogsAllowed') == 'True')\\\n",
    "                                    | (col('attributes.DogsAllowed') == True)\\\n",
    "                                    | (col('attributes.DogsAllowed') == \"\\True'\\'\")\\\n",
    "                                    | (col('attributes.DogsAllowed') == \"u\\'True\\'\"), 1)\\\n",
    "                            .otherwise(0))\n",
    "\n",
    "business = business.withColumn('considered_as_loud',\n",
    "                              when((col('attributes.NoiseLevel') == 'loud')\\\n",
    "                                    | (col('attributes.NoiseLevel') == \"\\'loud\\'\")\\\n",
    "                                    | (col('attributes.NoiseLevel') == \"u\\'loud\\'\")\\\n",
    "                                    | (col('attributes.NoiseLevel') == \"very_loud\")\\\n",
    "                                    | (col('attributes.NoiseLevel') == \"\\'very_loud\\'\")\\\n",
    "                                    | (col('attributes.NoiseLevel') == \"u\\'very_loud\\'\"), 1)\\\n",
    "                            .otherwise(0))\n",
    "\n",
    "business = business.withColumn('offers_happy_hours',\n",
    "                              when((col('attributes.HappyHour') == 'True')\\\n",
    "                                    | (col('attributes.HappyHour') == True)\\\n",
    "                                    | (col('attributes.HappyHour') == \"\\'True\\'\")\\\n",
    "                                    | (col('attributes.HappyHour') == \"u\\'True\\'\"), 1)\\\n",
    "                            .otherwise(0))\n",
    "\n",
    "business = business.withColumn('label',\n",
    "                              when(col('is_open') == 0, 1).otherwise(0))"
   ]
  },
  {
   "cell_type": "code",
   "execution_count": 24,
   "metadata": {},
   "outputs": [
    {
     "data": {
      "application/vnd.jupyter.widget-view+json": {
       "model_id": "",
       "version_major": 2,
       "version_minor": 0
      },
      "text/plain": [
       "FloatProgress(value=0.0, bar_style='info', description='Progress:', layout=Layout(height='25px', width='50%'),…"
      ]
     },
     "metadata": {},
     "output_type": "display_data"
    }
   ],
   "source": [
    "business = business.drop(\"is_open\",\"address\",\"attributes\",\"business_id\",\"categories\",\"city\",\"hours\",\"latitude\",\"longitude\",\"name\", \"postal_code\",\"state\")"
   ]
  },
  {
   "cell_type": "markdown",
   "metadata": {},
   "source": [
    "#### Creando vector assembler."
   ]
  },
  {
   "cell_type": "code",
   "execution_count": 25,
   "metadata": {},
   "outputs": [
    {
     "data": {
      "application/vnd.jupyter.widget-view+json": {
       "model_id": "",
       "version_major": 2,
       "version_minor": 0
      },
      "text/plain": [
       "FloatProgress(value=0.0, bar_style='info', description='Progress:', layout=Layout(height='25px', width='50%'),…"
      ]
     },
     "metadata": {},
     "output_type": "display_data"
    }
   ],
   "source": [
    "# Defino lista features\n",
    "feats_business =  ['review_count', 'stars', 'accepts_insurance', 'age_restricted', 'allows_alcohol', \n",
    "                   'accepts_bitcoin', 'food_related', 'finance_related', 'health_related', 'allows_smoking', \n",
    "                   'offers_free_wifi', 'considered_expensive', 'kid_friendly', 'has_tv', 'dog_friendly', \n",
    "                   'considered_as_loud', 'offers_happy_hours']\n",
    "# Defino vector assembler\n",
    "va_business = VectorAssembler(inputCols=feats_business, outputCol='vector_features_business')\n",
    "\n",
    "business_2 = va_business.transform(business)\n",
    "business_3 = business_2.select(\"label\", \"vector_features_business\")"
   ]
  },
  {
   "cell_type": "markdown",
   "metadata": {},
   "source": [
    "#### Division muestra conjunto de validación y de entrenamiento."
   ]
  },
  {
   "cell_type": "code",
   "execution_count": 26,
   "metadata": {},
   "outputs": [
    {
     "data": {
      "application/vnd.jupyter.widget-view+json": {
       "model_id": "",
       "version_major": 2,
       "version_minor": 0
      },
      "text/plain": [
       "FloatProgress(value=0.0, bar_style='info', description='Progress:', layout=Layout(height='25px', width='50%'),…"
      ]
     },
     "metadata": {},
     "output_type": "display_data"
    }
   ],
   "source": [
    "train_vector_business, test_vector_business = business_3.randomSplit([0.7,0.3], seed=37311)"
   ]
  },
  {
   "cell_type": "markdown",
   "metadata": {},
   "source": [
    "#### Entrenamiento de modelos"
   ]
  },
  {
   "cell_type": "markdown",
   "metadata": {},
   "source": [
    "+ LogisticRegression."
   ]
  },
  {
   "cell_type": "code",
   "execution_count": 27,
   "metadata": {},
   "outputs": [
    {
     "data": {
      "application/vnd.jupyter.widget-view+json": {
       "model_id": "",
       "version_major": 2,
       "version_minor": 0
      },
      "text/plain": [
       "FloatProgress(value=0.0, bar_style='info', description='Progress:', layout=Layout(height='25px', width='50%'),…"
      ]
     },
     "metadata": {},
     "output_type": "display_data"
    }
   ],
   "source": [
    "#Train: fit\n",
    "lr_business = LogisticRegression(featuresCol = 'vector_features_business', labelCol = 'label')\n",
    "fitted_model_lr_business = lr_business.fit(train_vector_business)\n",
    "\n",
    "#Test: transform\n",
    "lr_prediction_business = fitted_model_lr_business.transform(test_vector_business)"
   ]
  },
  {
   "cell_type": "code",
   "execution_count": 28,
   "metadata": {},
   "outputs": [
    {
     "data": {
      "application/vnd.jupyter.widget-view+json": {
       "model_id": "",
       "version_major": 2,
       "version_minor": 0
      },
      "text/plain": [
       "FloatProgress(value=0.0, bar_style='info', description='Progress:', layout=Layout(height='25px', width='50%'),…"
      ]
     },
     "metadata": {},
     "output_type": "display_data"
    }
   ],
   "source": [
    "lr_evaluator_business = BinaryClassificationEvaluator(labelCol=\"label\", rawPredictionCol=\"rawPrediction\")\n",
    "lr_auc_business = lr_evaluator_business.evaluate(lr_prediction_business)"
   ]
  },
  {
   "cell_type": "code",
   "execution_count": 29,
   "metadata": {},
   "outputs": [
    {
     "data": {
      "application/vnd.jupyter.widget-view+json": {
       "model_id": "",
       "version_major": 2,
       "version_minor": 0
      },
      "text/plain": [
       "FloatProgress(value=0.0, bar_style='info', description='Progress:', layout=Layout(height='25px', width='50%'),…"
      ]
     },
     "metadata": {},
     "output_type": "display_data"
    },
    {
     "name": "stdout",
     "output_type": "stream",
     "text": [
      "0.6918714256418185"
     ]
    }
   ],
   "source": [
    "lr_auc_business"
   ]
  },
  {
   "cell_type": "markdown",
   "metadata": {},
   "source": [
    "+ GBTClassifier"
   ]
  },
  {
   "cell_type": "code",
   "execution_count": 30,
   "metadata": {},
   "outputs": [
    {
     "data": {
      "application/vnd.jupyter.widget-view+json": {
       "model_id": "",
       "version_major": 2,
       "version_minor": 0
      },
      "text/plain": [
       "FloatProgress(value=0.0, bar_style='info', description='Progress:', layout=Layout(height='25px', width='50%'),…"
      ]
     },
     "metadata": {},
     "output_type": "display_data"
    }
   ],
   "source": [
    "#Train: fit\n",
    "gbt_business = GBTClassifier(featuresCol = 'vector_features_business', labelCol = 'label')\n",
    "fitted_model_gbt_business = gbt_business.fit(train_vector_business)\n",
    "\n",
    "#Test: transform\n",
    "gbt_prediction_business = fitted_model_gbt_business.transform(test_vector_business)"
   ]
  },
  {
   "cell_type": "code",
   "execution_count": 31,
   "metadata": {},
   "outputs": [
    {
     "data": {
      "application/vnd.jupyter.widget-view+json": {
       "model_id": "",
       "version_major": 2,
       "version_minor": 0
      },
      "text/plain": [
       "FloatProgress(value=0.0, bar_style='info', description='Progress:', layout=Layout(height='25px', width='50%'),…"
      ]
     },
     "metadata": {},
     "output_type": "display_data"
    }
   ],
   "source": [
    "gbt_evaluator_business = BinaryClassificationEvaluator(labelCol=\"label\", rawPredictionCol=\"rawPrediction\")\n",
    "gbt_auc_business = gbt_evaluator_business.evaluate(gbt_prediction_business)"
   ]
  },
  {
   "cell_type": "code",
   "execution_count": 32,
   "metadata": {},
   "outputs": [
    {
     "data": {
      "application/vnd.jupyter.widget-view+json": {
       "model_id": "",
       "version_major": 2,
       "version_minor": 0
      },
      "text/plain": [
       "FloatProgress(value=0.0, bar_style='info', description='Progress:', layout=Layout(height='25px', width='50%'),…"
      ]
     },
     "metadata": {},
     "output_type": "display_data"
    },
    {
     "name": "stdout",
     "output_type": "stream",
     "text": [
      "0.7059640993931542"
     ]
    }
   ],
   "source": [
    "gbt_auc_business"
   ]
  },
  {
   "cell_type": "markdown",
   "metadata": {},
   "source": [
    "+ DecisionTreeClassifier"
   ]
  },
  {
   "cell_type": "code",
   "execution_count": 33,
   "metadata": {},
   "outputs": [
    {
     "data": {
      "application/vnd.jupyter.widget-view+json": {
       "model_id": "",
       "version_major": 2,
       "version_minor": 0
      },
      "text/plain": [
       "FloatProgress(value=0.0, bar_style='info', description='Progress:', layout=Layout(height='25px', width='50%'),…"
      ]
     },
     "metadata": {},
     "output_type": "display_data"
    }
   ],
   "source": [
    "#Train: fit\n",
    "dtc_business = DecisionTreeClassifier(featuresCol = 'vector_features_business', labelCol = 'label')\n",
    "fitted_model_dtc_business = dtc_business.fit(train_vector_business)\n",
    "\n",
    "#Test: transform\n",
    "dtc_prediction_business = fitted_model_dtc_business.transform(test_vector_business)"
   ]
  },
  {
   "cell_type": "code",
   "execution_count": 34,
   "metadata": {},
   "outputs": [
    {
     "data": {
      "application/vnd.jupyter.widget-view+json": {
       "model_id": "",
       "version_major": 2,
       "version_minor": 0
      },
      "text/plain": [
       "FloatProgress(value=0.0, bar_style='info', description='Progress:', layout=Layout(height='25px', width='50%'),…"
      ]
     },
     "metadata": {},
     "output_type": "display_data"
    }
   ],
   "source": [
    "dtc_evaluator_business = BinaryClassificationEvaluator(labelCol=\"label\", rawPredictionCol=\"rawPrediction\")\n",
    "dtc_auc_business = dtc_evaluator_business.evaluate(dtc_prediction_business)"
   ]
  },
  {
   "cell_type": "code",
   "execution_count": 35,
   "metadata": {},
   "outputs": [
    {
     "data": {
      "application/vnd.jupyter.widget-view+json": {
       "model_id": "",
       "version_major": 2,
       "version_minor": 0
      },
      "text/plain": [
       "FloatProgress(value=0.0, bar_style='info', description='Progress:', layout=Layout(height='25px', width='50%'),…"
      ]
     },
     "metadata": {},
     "output_type": "display_data"
    },
    {
     "name": "stdout",
     "output_type": "stream",
     "text": [
      "0.5599717354948456"
     ]
    }
   ],
   "source": [
    "dtc_auc_business"
   ]
  },
  {
   "cell_type": "markdown",
   "metadata": {},
   "source": [
    "+ El mejor modelo en base a su AUC score es el Gradient Boosted Trees. Con 0.705."
   ]
  },
  {
   "cell_type": "markdown",
   "metadata": {},
   "source": [
    "+ Identifique cuales son los principales atributos asociados a un usuario molestoso y repórtelos"
   ]
  },
  {
   "cell_type": "code",
   "execution_count": 102,
   "metadata": {},
   "outputs": [
    {
     "data": {
      "application/vnd.jupyter.widget-view+json": {
       "model_id": "",
       "version_major": 2,
       "version_minor": 0
      },
      "text/plain": [
       "FloatProgress(value=0.0, bar_style='info', description='Progress:', layout=Layout(height='25px', width='50%'),…"
      ]
     },
     "metadata": {},
     "output_type": "display_data"
    }
   ],
   "source": [
    "iterable_to_sort = list(zip(list(fitted_model_gbt_business.featureImportances),feats_business))"
   ]
  },
  {
   "cell_type": "code",
   "execution_count": 105,
   "metadata": {},
   "outputs": [
    {
     "data": {
      "application/vnd.jupyter.widget-view+json": {
       "model_id": "",
       "version_major": 2,
       "version_minor": 0
      },
      "text/plain": [
       "FloatProgress(value=0.0, bar_style='info', description='Progress:', layout=Layout(height='25px', width='50%'),…"
      ]
     },
     "metadata": {},
     "output_type": "display_data"
    },
    {
     "name": "stdout",
     "output_type": "stream",
     "text": [
      "[(0.0009682790613979285, 'accepts_bitcoin'), (0.004871078396797879, 'age_restricted'), (0.006714508315772911, 'dog_friendly'), (0.0069346332907087626, 'allows_smoking'), (0.014691109574143596, 'offers_happy_hours'), (0.01609106664711758, 'health_related'), (0.01642963197768825, 'considered_as_loud'), (0.028478166908371575, 'finance_related'), (0.03440955874272693, 'considered_expensive'), (0.04360917418836734, 'has_tv'), (0.04645966527099416, 'offers_free_wifi'), (0.07237911857290917, 'accepts_insurance'), (0.07659871018109396, 'kid_friendly'), (0.0900557814818842, 'allows_alcohol'), (0.1675160681876632, 'food_related'), (0.17306787507519375, 'stars'), (0.20072557412716896, 'review_count')]"
     ]
    }
   ],
   "source": [
    "sorted(iterable_to_sort)"
   ]
  },
  {
   "cell_type": "markdown",
   "metadata": {},
   "source": [
    "+ Los principales atributos asociados con el cierre de un servicio son:\n",
    "    - review_count\n",
    "    - stars\n",
    "    - food_related"
   ]
  },
  {
   "cell_type": "code",
   "execution_count": null,
   "metadata": {},
   "outputs": [],
   "source": []
  }
 ],
 "metadata": {
  "kernelspec": {
   "display_name": "PySpark",
   "language": "",
   "name": "pysparkkernel"
  },
  "language_info": {
   "codemirror_mode": {
    "name": "python",
    "version": 3
   },
   "mimetype": "text/x-python",
   "name": "pyspark",
   "pygments_lexer": "python3"
  }
 },
 "nbformat": 4,
 "nbformat_minor": 4
}
