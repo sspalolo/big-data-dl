{
 "cells": [
  {
   "cell_type": "code",
   "execution_count": 1,
   "metadata": {},
   "outputs": [
    {
     "name": "stdout",
     "output_type": "stream",
     "text": [
      "Starting Spark application\n"
     ]
    },
    {
     "data": {
      "text/html": [
       "<table>\n",
       "<tr><th>ID</th><th>YARN Application ID</th><th>Kind</th><th>State</th><th>Spark UI</th><th>Driver log</th><th>Current session?</th></tr><tr><td>3</td><td>application_1625852704433_0004</td><td>pyspark</td><td>idle</td><td><a target=\"_blank\" href=\"http://ip-172-31-44-175.ec2.internal:20888/proxy/application_1625852704433_0004/\">Link</a></td><td><a target=\"_blank\" href=\"http://ip-172-31-47-42.ec2.internal:8042/node/containerlogs/container_1625852704433_0004_01_000001/livy\">Link</a></td><td>✔</td></tr></table>"
      ],
      "text/plain": [
       "<IPython.core.display.HTML object>"
      ]
     },
     "metadata": {},
     "output_type": "display_data"
    },
    {
     "data": {
      "application/vnd.jupyter.widget-view+json": {
       "model_id": "",
       "version_major": 2,
       "version_minor": 0
      },
      "text/plain": [
       "FloatProgress(value=0.0, bar_style='info', description='Progress:', layout=Layout(height='25px', width='50%'),…"
      ]
     },
     "metadata": {},
     "output_type": "display_data"
    },
    {
     "name": "stdout",
     "output_type": "stream",
     "text": [
      "SparkSession available as 'spark'.\n"
     ]
    },
    {
     "data": {
      "application/vnd.jupyter.widget-view+json": {
       "model_id": "",
       "version_major": 2,
       "version_minor": 0
      },
      "text/plain": [
       "FloatProgress(value=0.0, bar_style='info', description='Progress:', layout=Layout(height='25px', width='50%'),…"
      ]
     },
     "metadata": {},
     "output_type": "display_data"
    }
   ],
   "source": [
    "import pyspark"
   ]
  },
  {
   "cell_type": "code",
   "execution_count": 2,
   "metadata": {},
   "outputs": [
    {
     "data": {
      "application/vnd.jupyter.widget-view+json": {
       "model_id": "",
       "version_major": 2,
       "version_minor": 0
      },
      "text/plain": [
       "FloatProgress(value=0.0, bar_style='info', description='Progress:', layout=Layout(height='25px', width='50%'),…"
      ]
     },
     "metadata": {},
     "output_type": "display_data"
    }
   ],
   "source": [
    "df = spark.read.parquet(\"s3://bigdata-desafio/transantiago\").persist()"
   ]
  },
  {
   "cell_type": "code",
   "execution_count": 3,
   "metadata": {},
   "outputs": [
    {
     "data": {
      "application/vnd.jupyter.widget-view+json": {
       "model_id": "",
       "version_major": 2,
       "version_minor": 0
      },
      "text/plain": [
       "FloatProgress(value=0.0, bar_style='info', description='Progress:', layout=Layout(height='25px', width='50%'),…"
      ]
     },
     "metadata": {},
     "output_type": "display_data"
    },
    {
     "name": "stdout",
     "output_type": "stream",
     "text": [
      "root\n",
      " |-- fechahoratrx: timestamp (nullable = true)\n",
      " |-- codigoentidad: long (nullable = true)\n",
      " |-- nombreentidad: string (nullable = true)\n",
      " |-- codigositio: long (nullable = true)\n",
      " |-- nombresitio: string (nullable = true)\n",
      " |-- nrotarjeta: string (nullable = true)\n",
      " |-- day: integer (nullable = true)\n",
      " |-- from: integer (nullable = true)\n",
      " |-- to: integer (nullable = true)"
     ]
    }
   ],
   "source": [
    "df.printSchema()"
   ]
  },
  {
   "cell_type": "markdown",
   "metadata": {},
   "source": [
    "## Ej 1."
   ]
  },
  {
   "cell_type": "markdown",
   "metadata": {},
   "source": [
    "### Punto 1."
   ]
  },
  {
   "cell_type": "code",
   "execution_count": 4,
   "metadata": {},
   "outputs": [
    {
     "data": {
      "application/vnd.jupyter.widget-view+json": {
       "model_id": "",
       "version_major": 2,
       "version_minor": 0
      },
      "text/plain": [
       "FloatProgress(value=0.0, bar_style='info', description='Progress:', layout=Layout(height='25px', width='50%'),…"
      ]
     },
     "metadata": {},
     "output_type": "display_data"
    },
    {
     "name": "stdout",
     "output_type": "stream",
     "text": [
      "456532128"
     ]
    }
   ],
   "source": [
    "df.count()"
   ]
  },
  {
   "cell_type": "code",
   "execution_count": 5,
   "metadata": {},
   "outputs": [
    {
     "data": {
      "application/vnd.jupyter.widget-view+json": {
       "model_id": "",
       "version_major": 2,
       "version_minor": 0
      },
      "text/plain": [
       "FloatProgress(value=0.0, bar_style='info', description='Progress:', layout=Layout(height='25px', width='50%'),…"
      ]
     },
     "metadata": {},
     "output_type": "display_data"
    },
    {
     "name": "stdout",
     "output_type": "stream",
     "text": [
      "+-------------------+----------+-------+\n",
      "|       fechahoratrx|   datetrx|hourtrx|\n",
      "+-------------------+----------+-------+\n",
      "|2018-08-08 06:17:00|2018-08-08|      6|\n",
      "|2018-08-08 06:17:03|2018-08-08|      6|\n",
      "|2018-08-08 06:17:40|2018-08-08|      6|\n",
      "|2018-08-08 06:17:44|2018-08-08|      6|\n",
      "|2018-08-08 06:17:47|2018-08-08|      6|\n",
      "|2018-08-08 06:17:50|2018-08-08|      6|\n",
      "|2018-08-08 06:17:53|2018-08-08|      6|\n",
      "|2018-08-08 06:17:56|2018-08-08|      6|\n",
      "|2018-08-08 06:18:05|2018-08-08|      6|\n",
      "|2018-08-08 06:18:09|2018-08-08|      6|\n",
      "|2018-08-08 06:18:49|2018-08-08|      6|\n",
      "|2018-08-08 06:18:53|2018-08-08|      6|\n",
      "|2018-08-08 06:19:07|2018-08-08|      6|\n",
      "|2018-08-08 06:19:39|2018-08-08|      6|\n",
      "|2018-08-08 06:20:21|2018-08-08|      6|\n",
      "|2018-08-08 06:20:27|2018-08-08|      6|\n",
      "|2018-08-08 06:20:31|2018-08-08|      6|\n",
      "|2018-08-08 06:20:34|2018-08-08|      6|\n",
      "|2018-08-08 06:20:38|2018-08-08|      6|\n",
      "|2018-08-08 06:20:41|2018-08-08|      6|\n",
      "+-------------------+----------+-------+\n",
      "only showing top 20 rows"
     ]
    }
   ],
   "source": [
    "from pyspark.sql.functions import to_date, col, hour\n",
    "\n",
    "df2 = df.withColumn('datetrx', to_date(col(\"fechahoratrx\"))\n",
    "                   ).withColumn('hourtrx', hour(col(\"fechahoratrx\")))\n",
    "\n",
    "df2.select(\"fechahoratrx\", \"datetrx\", \"hourtrx\").show()"
   ]
  },
  {
   "cell_type": "markdown",
   "metadata": {},
   "source": [
    "### Punto 2"
   ]
  },
  {
   "cell_type": "code",
   "execution_count": 6,
   "metadata": {},
   "outputs": [
    {
     "data": {
      "application/vnd.jupyter.widget-view+json": {
       "model_id": "",
       "version_major": 2,
       "version_minor": 0
      },
      "text/plain": [
       "FloatProgress(value=0.0, bar_style='info', description='Progress:', layout=Layout(height='25px', width='50%'),…"
      ]
     },
     "metadata": {},
     "output_type": "display_data"
    },
    {
     "name": "stdout",
     "output_type": "stream",
     "text": [
      "Row(fechahoratrx=datetime.datetime(2018, 4, 17, 0, 5, 43), codigoentidad=2, nombreentidad='U2 - Su Bus', codigositio=14008, nombresitio='BJFD-95', nrotarjeta='e0bdd49767aa6256ae2c4f630832ffe819f17a0e5d04723e5cf33d36ef75cd82', day=20180819, from=20180811, to=20180813, datetrx=datetime.date(2018, 4, 17), hourtrx=0)"
     ]
    }
   ],
   "source": [
    "# Primera transaccion\n",
    "df2.orderBy(col(\"hourtrx\").asc(),col(\"datetrx\").asc()).head()"
   ]
  },
  {
   "cell_type": "code",
   "execution_count": 7,
   "metadata": {},
   "outputs": [
    {
     "data": {
      "application/vnd.jupyter.widget-view+json": {
       "model_id": "",
       "version_major": 2,
       "version_minor": 0
      },
      "text/plain": [
       "FloatProgress(value=0.0, bar_style='info', description='Progress:', layout=Layout(height='25px', width='50%'),…"
      ]
     },
     "metadata": {},
     "output_type": "display_data"
    },
    {
     "name": "stdout",
     "output_type": "stream",
     "text": [
      "Row(fechahoratrx=datetime.datetime(2018, 9, 2, 23, 0), codigoentidad=16, nombreentidad='U3 - Vule', codigositio=14909, nombresitio='BJFS-20', nrotarjeta='a070b7cc2386d1548eea07fe6a9d178f3466206e3952508b7f3ca6c9e6069c9b', day=20180907, from=20180903, to=20180905, datetrx=datetime.date(2018, 9, 2), hourtrx=23)"
     ]
    }
   ],
   "source": [
    "# Ultima transaccion\n",
    "df2.orderBy(col(\"hourtrx\").desc(),col(\"datetrx\").desc()).head()"
   ]
  },
  {
   "cell_type": "markdown",
   "metadata": {},
   "source": [
    "## Ej 2."
   ]
  },
  {
   "cell_type": "markdown",
   "metadata": {},
   "source": [
    "+ Liste los distintos operadores.\n",
    "+ Muestre la cantidad de transacciones para cada operador.\n"
   ]
  },
  {
   "cell_type": "code",
   "execution_count": 8,
   "metadata": {},
   "outputs": [
    {
     "data": {
      "application/vnd.jupyter.widget-view+json": {
       "model_id": "",
       "version_major": 2,
       "version_minor": 0
      },
      "text/plain": [
       "FloatProgress(value=0.0, bar_style='info', description='Progress:', layout=Layout(height='25px', width='50%'),…"
      ]
     },
     "metadata": {},
     "output_type": "display_data"
    },
    {
     "name": "stdout",
     "output_type": "stream",
     "text": [
      "+------------------+\n",
      "|     nombreentidad|\n",
      "+------------------+\n",
      "|        METRO - OT|\n",
      "|      U1 - Alsacia|\n",
      "|         U3 - Vule|\n",
      "|U5 - Metropolitana|\n",
      "|          U7 - STP|\n",
      "|       U2 - Su Bus|\n",
      "|       U6 - Redbus|\n",
      "|      U4 - Express|\n",
      "|      Tren Central|\n",
      "+------------------+"
     ]
    }
   ],
   "source": [
    "df.select('nombreentidad').distinct().show()"
   ]
  },
  {
   "cell_type": "code",
   "execution_count": 9,
   "metadata": {},
   "outputs": [
    {
     "data": {
      "application/vnd.jupyter.widget-view+json": {
       "model_id": "",
       "version_major": 2,
       "version_minor": 0
      },
      "text/plain": [
       "FloatProgress(value=0.0, bar_style='info', description='Progress:', layout=Layout(height='25px', width='50%'),…"
      ]
     },
     "metadata": {},
     "output_type": "display_data"
    },
    {
     "name": "stdout",
     "output_type": "stream",
     "text": [
      "+------------------+---------+\n",
      "|     nombreentidad|    count|\n",
      "+------------------+---------+\n",
      "|        METRO - OT|202471859|\n",
      "|      U1 - Alsacia| 27317884|\n",
      "|         U3 - Vule| 48198386|\n",
      "|U5 - Metropolitana| 46727071|\n",
      "|          U7 - STP| 17825212|\n",
      "|       U2 - Su Bus| 39337668|\n",
      "|       U6 - Redbus| 26101394|\n",
      "|      U4 - Express| 42893078|\n",
      "|      Tren Central|  5659576|\n",
      "+------------------+---------+"
     ]
    }
   ],
   "source": [
    "df.groupBy('nombreentidad').count().show()"
   ]
  },
  {
   "cell_type": "markdown",
   "metadata": {},
   "source": [
    "## Ej 3."
   ]
  },
  {
   "cell_type": "markdown",
   "metadata": {},
   "source": [
    "+ Muestre las 20 tarjetas con más transacciones.\n",
    "+ Cuente todas las tarjetas que posean más de 2 transacciones por día."
   ]
  },
  {
   "cell_type": "code",
   "execution_count": 10,
   "metadata": {},
   "outputs": [
    {
     "data": {
      "application/vnd.jupyter.widget-view+json": {
       "model_id": "",
       "version_major": 2,
       "version_minor": 0
      },
      "text/plain": [
       "FloatProgress(value=0.0, bar_style='info', description='Progress:', layout=Layout(height='25px', width='50%'),…"
      ]
     },
     "metadata": {},
     "output_type": "display_data"
    },
    {
     "name": "stdout",
     "output_type": "stream",
     "text": [
      "+--------------------+-----+\n",
      "|          nrotarjeta|count|\n",
      "+--------------------+-----+\n",
      "|deec3122b409a5fc5...| 1411|\n",
      "|de9c88570da017d4a...| 1263|\n",
      "|3067b87bcbd4539f6...| 1194|\n",
      "|469ea593723b604d5...| 1163|\n",
      "|fa3875d0e0cc7ccd5...| 1153|\n",
      "|803c9ddf9d09d177f...| 1153|\n",
      "|9eeec446133e409fa...| 1142|\n",
      "|b34fa35f11aa675f1...| 1139|\n",
      "|96d6b2eb577ab2629...| 1139|\n",
      "|06cfe644a7b163bec...| 1131|\n",
      "|7ca23ee541b387e96...| 1125|\n",
      "|3ed8575b3d1d5281f...| 1118|\n",
      "|a5c1d005449309320...| 1109|\n",
      "|1760b3b06c2d4d718...| 1108|\n",
      "|8d09ad5982ef800f7...| 1102|\n",
      "|15af9115719b3e3c4...| 1086|\n",
      "|46313191acb7ab2ec...| 1082|\n",
      "|773f1ec9877777b91...| 1067|\n",
      "|64eb75d0b2396ab30...| 1064|\n",
      "|94f04c2250766d9ff...| 1061|\n",
      "+--------------------+-----+\n",
      "only showing top 20 rows"
     ]
    }
   ],
   "source": [
    "df.groupBy('nrotarjeta').count().sort(col(\"count\").desc()).show()"
   ]
  },
  {
   "cell_type": "code",
   "execution_count": 11,
   "metadata": {},
   "outputs": [
    {
     "data": {
      "application/vnd.jupyter.widget-view+json": {
       "model_id": "",
       "version_major": 2,
       "version_minor": 0
      },
      "text/plain": [
       "FloatProgress(value=0.0, bar_style='info', description='Progress:', layout=Layout(height='25px', width='50%'),…"
      ]
     },
     "metadata": {},
     "output_type": "display_data"
    },
    {
     "name": "stdout",
     "output_type": "stream",
     "text": [
      "5595417"
     ]
    }
   ],
   "source": [
    "df.groupBy('nrotarjeta').count().sort(col(\"count\").desc()).count()"
   ]
  },
  {
   "cell_type": "code",
   "execution_count": 12,
   "metadata": {},
   "outputs": [
    {
     "data": {
      "application/vnd.jupyter.widget-view+json": {
       "model_id": "",
       "version_major": 2,
       "version_minor": 0
      },
      "text/plain": [
       "FloatProgress(value=0.0, bar_style='info', description='Progress:', layout=Layout(height='25px', width='50%'),…"
      ]
     },
     "metadata": {},
     "output_type": "display_data"
    }
   ],
   "source": [
    "df_count = df2.groupBy(\"nrotarjeta\", \"datetrx\").count()"
   ]
  },
  {
   "cell_type": "code",
   "execution_count": 13,
   "metadata": {},
   "outputs": [
    {
     "data": {
      "application/vnd.jupyter.widget-view+json": {
       "model_id": "",
       "version_major": 2,
       "version_minor": 0
      },
      "text/plain": [
       "FloatProgress(value=0.0, bar_style='info', description='Progress:', layout=Layout(height='25px', width='50%'),…"
      ]
     },
     "metadata": {},
     "output_type": "display_data"
    },
    {
     "name": "stdout",
     "output_type": "stream",
     "text": [
      "+--------------------+----------+-----+\n",
      "|          nrotarjeta|   datetrx|count|\n",
      "+--------------------+----------+-----+\n",
      "|d63f924d7491ff93f...|2018-08-21|  384|\n",
      "|1026248a668c8ef62...|2018-08-22|  320|\n",
      "|65c3eb2994fd3b139...|2018-08-26|  270|\n",
      "|98659abcaa135572b...|2018-08-27|  228|\n",
      "|28e2928b77e0063d2...|2018-08-23|  222|\n",
      "|12f59b6f5ebe3f983...|2018-08-23|  216|\n",
      "|8ca7a4c8de5e31ec4...|2018-08-23|  216|\n",
      "|882894a0401bc9a56...|2018-08-18|  212|\n",
      "|2531183822009f948...|2018-08-22|  206|\n",
      "|98659abcaa135572b...|2018-08-28|  202|\n",
      "|d9d4caec746a28095...|2018-08-23|  198|\n",
      "|7ee97440abf2746a7...|2018-08-24|  192|\n",
      "|13cede10209e5c684...|2018-08-25|  192|\n",
      "|2531183822009f948...|2018-08-23|  187|\n",
      "|40f4c2729e623992f...|2018-08-25|  186|\n",
      "|28e2928b77e0063d2...|2018-08-21|  184|\n",
      "|e39864335909ec488...|2018-08-25|  174|\n",
      "|c1981dea803db68a1...|2018-08-27|  168|\n",
      "|fa3875d0e0cc7ccd5...|2018-08-27|  168|\n",
      "|bf5bfe3f5f6a5c69f...|2018-08-22|  165|\n",
      "+--------------------+----------+-----+\n",
      "only showing top 20 rows"
     ]
    }
   ],
   "source": [
    "df_count_filtered = df_count.where(\"count>2\").sort(\"count\", ascending=False)\n",
    "df_count_filtered.show()"
   ]
  },
  {
   "cell_type": "code",
   "execution_count": 14,
   "metadata": {},
   "outputs": [
    {
     "data": {
      "application/vnd.jupyter.widget-view+json": {
       "model_id": "",
       "version_major": 2,
       "version_minor": 0
      },
      "text/plain": [
       "FloatProgress(value=0.0, bar_style='info', description='Progress:', layout=Layout(height='25px', width='50%'),…"
      ]
     },
     "metadata": {},
     "output_type": "display_data"
    },
    {
     "name": "stdout",
     "output_type": "stream",
     "text": [
      "5353814"
     ]
    }
   ],
   "source": [
    "df_distinct_tarjetas = df_count_filtered.select(\"nrotarjeta\").distinct()\n",
    "df_distinct_tarjetas.count()"
   ]
  },
  {
   "cell_type": "markdown",
   "metadata": {},
   "source": [
    "## Ej 4."
   ]
  },
  {
   "cell_type": "markdown",
   "metadata": {},
   "source": [
    "+ Determine los 10 días con más transacciones.\n",
    "+ Realice una comparación de la cantidad de transacciones por hora para cada operador. Muestre sus resultados en un gráfico donde el eje X sea la hora del día y el eje Y la cantidad de transacciones"
   ]
  },
  {
   "cell_type": "code",
   "execution_count": 15,
   "metadata": {},
   "outputs": [
    {
     "data": {
      "application/vnd.jupyter.widget-view+json": {
       "model_id": "",
       "version_major": 2,
       "version_minor": 0
      },
      "text/plain": [
       "FloatProgress(value=0.0, bar_style='info', description='Progress:', layout=Layout(height='25px', width='50%'),…"
      ]
     },
     "metadata": {},
     "output_type": "display_data"
    },
    {
     "name": "stdout",
     "output_type": "stream",
     "text": [
      "+----------+--------+\n",
      "|   datetrx|   count|\n",
      "+----------+--------+\n",
      "|2018-08-24|35500762|\n",
      "|2018-08-28|34907307|\n",
      "|2018-08-27|34875930|\n",
      "|2018-08-29|31530669|\n",
      "|2018-08-23|30946604|\n",
      "|2018-08-22|26971860|\n",
      "|2018-08-30|25727297|\n",
      "|2018-08-16|23844751|\n",
      "|2018-08-21|23675505|\n",
      "|2018-08-20|23649525|\n",
      "+----------+--------+\n",
      "only showing top 10 rows"
     ]
    }
   ],
   "source": [
    "df2.groupBy('datetrx').count().sort(\"count\", ascending=False).show(10)"
   ]
  },
  {
   "cell_type": "code",
   "execution_count": 16,
   "metadata": {},
   "outputs": [
    {
     "data": {
      "application/vnd.jupyter.widget-view+json": {
       "model_id": "",
       "version_major": 2,
       "version_minor": 0
      },
      "text/plain": [
       "FloatProgress(value=0.0, bar_style='info', description='Progress:', layout=Layout(height='25px', width='50%'),…"
      ]
     },
     "metadata": {},
     "output_type": "display_data"
    }
   ],
   "source": [
    "df_for_plot = df2.groupBy(\"datetrx\").count()"
   ]
  },
  {
   "cell_type": "code",
   "execution_count": 17,
   "metadata": {},
   "outputs": [
    {
     "data": {
      "application/vnd.jupyter.widget-view+json": {
       "model_id": "",
       "version_major": 2,
       "version_minor": 0
      },
      "text/plain": [
       "FloatProgress(value=0.0, bar_style='info', description='Progress:', layout=Layout(height='25px', width='50%'),…"
      ]
     },
     "metadata": {},
     "output_type": "display_data"
    },
    {
     "data": {
      "application/vnd.jupyter.widget-view+json": {
       "model_id": "",
       "version_major": 2,
       "version_minor": 0
      },
      "text/plain": [
       "FloatProgress(value=0.0, bar_style='info', description='Progress:', layout=Layout(height='25px', width='50%'),…"
      ]
     },
     "metadata": {},
     "output_type": "display_data"
    }
   ],
   "source": [
    "%%spark -o dflocal\n",
    "dflocal = df2.groupBy(\"nombreentidad\", \"hourtrx\").count()"
   ]
  },
  {
   "cell_type": "code",
   "execution_count": 18,
   "metadata": {},
   "outputs": [
    {
     "name": "stdout",
     "output_type": "stream",
     "text": [
      "Requirement already satisfied: seaborn in /opt/conda/lib/python3.7/site-packages (0.11.1)\n",
      "Requirement already satisfied: matplotlib>=2.2 in /opt/conda/lib/python3.7/site-packages (from seaborn) (3.2.2)\n",
      "Requirement already satisfied: pandas>=0.23 in /opt/conda/lib/python3.7/site-packages (from seaborn) (1.1.4)\n",
      "Requirement already satisfied: scipy>=1.0 in /opt/conda/lib/python3.7/site-packages (from seaborn) (1.5.3)\n",
      "Requirement already satisfied: numpy>=1.15 in /opt/conda/lib/python3.7/site-packages (from seaborn) (1.19.4)\n",
      "Requirement already satisfied: python-dateutil>=2.1 in /opt/conda/lib/python3.7/site-packages (from matplotlib>=2.2->seaborn) (2.8.1)\n",
      "Requirement already satisfied: cycler>=0.10 in /opt/conda/lib/python3.7/site-packages (from matplotlib>=2.2->seaborn) (0.10.0)\n",
      "Requirement already satisfied: kiwisolver>=1.0.1 in /opt/conda/lib/python3.7/site-packages (from matplotlib>=2.2->seaborn) (1.3.1)\n",
      "Requirement already satisfied: pyparsing!=2.0.4,!=2.1.2,!=2.1.6,>=2.0.1 in /opt/conda/lib/python3.7/site-packages (from matplotlib>=2.2->seaborn) (2.4.7)\n",
      "Requirement already satisfied: six in /opt/conda/lib/python3.7/site-packages (from cycler>=0.10->matplotlib>=2.2->seaborn) (1.14.0)\n",
      "Requirement already satisfied: pytz>=2017.2 in /opt/conda/lib/python3.7/site-packages (from pandas>=0.23->seaborn) (2021.1)\n",
      "\u001b[33mWARNING: You are using pip version 21.0.1; however, version 21.1.3 is available.\n",
      "You should consider upgrading via the '/opt/conda/bin/python3.7 -m pip install --upgrade pip' command.\u001b[0m\n",
      "Requirement already satisfied: matplotlib in /opt/conda/lib/python3.7/site-packages (3.2.2)\n",
      "Requirement already satisfied: kiwisolver>=1.0.1 in /opt/conda/lib/python3.7/site-packages (from matplotlib) (1.3.1)\n",
      "Requirement already satisfied: cycler>=0.10 in /opt/conda/lib/python3.7/site-packages (from matplotlib) (0.10.0)\n",
      "Requirement already satisfied: pyparsing!=2.0.4,!=2.1.2,!=2.1.6,>=2.0.1 in /opt/conda/lib/python3.7/site-packages (from matplotlib) (2.4.7)\n",
      "Requirement already satisfied: python-dateutil>=2.1 in /opt/conda/lib/python3.7/site-packages (from matplotlib) (2.8.1)\n",
      "Requirement already satisfied: numpy>=1.11 in /opt/conda/lib/python3.7/site-packages (from matplotlib) (1.19.4)\n",
      "Requirement already satisfied: six in /opt/conda/lib/python3.7/site-packages (from cycler>=0.10->matplotlib) (1.14.0)\n",
      "\u001b[33mWARNING: You are using pip version 21.0.1; however, version 21.1.3 is available.\n",
      "You should consider upgrading via the '/opt/conda/bin/python3.7 -m pip install --upgrade pip' command.\u001b[0m\n"
     ]
    }
   ],
   "source": [
    "%%local\n",
    "\n",
    "!pip install seaborn\n",
    "!pip install matplotlib"
   ]
  },
  {
   "cell_type": "code",
   "execution_count": 19,
   "metadata": {},
   "outputs": [
    {
     "data": {
      "text/plain": [
       "Text(0.5, 1.0, 'Transacciones por hora y operador')"
      ]
     },
     "execution_count": 19,
     "metadata": {},
     "output_type": "execute_result"
    },
    {
     "data": {
      "image/png": "[encoded data removed]",
      "text/plain": [
       "<Figure size 1080x720 with 1 Axes>"
      ]
     },
     "metadata": {
      "needs_background": "light"
     },
     "output_type": "display_data"
    }
   ],
   "source": [
    "%%local\n",
    "\n",
    "import matplotlib.pyplot as plt\n",
    "import seaborn as sns\n",
    "\n",
    "plt.figure(figsize=(15,10))\n",
    "plt.style.use('ggplot')\n",
    "sns.barplot(x='hourtrx', y='count', hue='nombreentidad', data=dflocal)\n",
    "plt.title('Transacciones por hora y operador')\n"
   ]
  },
  {
   "cell_type": "markdown",
   "metadata": {},
   "source": [
    "+ Dado este grafico se puede apreciar que el operador con más transacciones por hora es METRO OT.\n",
    "+ Tambien podemos notar que las transacciones son mayores alrededor de las 7 am y 6 pm. Esto nos indicaría que la gente usa más el transporte al inicio de la jornada laboral y al termino. Tambien se presenta un mayor aumento de transacciones cercano a la hora de almuerzo."
   ]
  }
 ],
 "metadata": {
  "kernelspec": {
   "display_name": "PySpark",
   "language": "",
   "name": "pysparkkernel"
  },
  "language_info": {
   "codemirror_mode": {
    "name": "python",
    "version": 3
   },
   "mimetype": "text/x-python",
   "name": "pyspark",
   "pygments_lexer": "python3"
  }
 },
 "nbformat": 4,
 "nbformat_minor": 4
}
